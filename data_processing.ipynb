{
 "cells": [
  {
   "cell_type": "code",
   "execution_count": 1,
   "metadata": {},
   "outputs": [
    {
     "data": {
      "application/vnd.jupyter.widget-view+json": {
       "model_id": "b00ef5791249419e9b9c6b8b891760f9",
       "version_major": 2,
       "version_minor": 0
      },
      "text/plain": [
       "VBox()"
      ]
     },
     "metadata": {},
     "output_type": "display_data"
    },
    {
     "name": "stdout",
     "output_type": "stream",
     "text": [
      "Starting Spark application\n"
     ]
    },
    {
     "data": {
      "text/html": [
       "<table>\n",
       "<tr><th>ID</th><th>YARN Application ID</th><th>Kind</th><th>State</th><th>Spark UI</th><th>Driver log</th><th>Current session?</th></tr><tr><td>1</td><td>application_1607357564198_0002</td><td>pyspark</td><td>idle</td><td><a target=\"_blank\" href=\"http://ip-172-31-35-25.ec2.internal:20888/proxy/application_1607357564198_0002/\" >Link</a></td><td><a target=\"_blank\" href=\"http://ip-172-31-38-159.ec2.internal:8042/node/containerlogs/container_1607357564198_0002_01_000001/livy\" >Link</a></td><td>✔</td></tr></table>"
      ],
      "text/plain": [
       "<IPython.core.display.HTML object>"
      ]
     },
     "metadata": {},
     "output_type": "display_data"
    },
    {
     "data": {
      "application/vnd.jupyter.widget-view+json": {
       "model_id": "",
       "version_major": 2,
       "version_minor": 0
      },
      "text/plain": [
       "FloatProgress(value=0.0, bar_style='info', description='Progress:', layout=Layout(height='25px', width='50%'),…"
      ]
     },
     "metadata": {},
     "output_type": "display_data"
    },
    {
     "name": "stdout",
     "output_type": "stream",
     "text": [
      "SparkSession available as 'spark'.\n"
     ]
    },
    {
     "data": {
      "application/vnd.jupyter.widget-view+json": {
       "model_id": "",
       "version_major": 2,
       "version_minor": 0
      },
      "text/plain": [
       "FloatProgress(value=0.0, bar_style='info', description='Progress:', layout=Layout(height='25px', width='50%'),…"
      ]
     },
     "metadata": {},
     "output_type": "display_data"
    },
    {
     "name": "stdout",
     "output_type": "stream",
     "text": [
      "<pyspark.sql.session.SparkSession object at 0x7f813dbe5b50>"
     ]
    }
   ],
   "source": [
    "spark"
   ]
  },
  {
   "cell_type": "code",
   "execution_count": 2,
   "metadata": {},
   "outputs": [
    {
     "data": {
      "application/vnd.jupyter.widget-view+json": {
       "model_id": "db3415e3e07e4eb1a90473e1712c644a",
       "version_major": 2,
       "version_minor": 0
      },
      "text/plain": [
       "VBox()"
      ]
     },
     "metadata": {},
     "output_type": "display_data"
    },
    {
     "data": {
      "application/vnd.jupyter.widget-view+json": {
       "model_id": "",
       "version_major": 2,
       "version_minor": 0
      },
      "text/plain": [
       "FloatProgress(value=0.0, bar_style='info', description='Progress:', layout=Layout(height='25px', width='50%'),…"
      ]
     },
     "metadata": {},
     "output_type": "display_data"
    }
   ],
   "source": [
    "from datetime import date\n",
    "today = date.today()\n",
    "\n",
    "day = today.strftime(\"%d-%m-%Y\")\n",
    "\n",
    "datos = spark.read.csv('s3://proyecto-bigdata/raw/datos-{0}.csv'.format(day), inferSchema=True, header=True)"
   ]
  },
  {
   "cell_type": "code",
   "execution_count": 3,
   "metadata": {},
   "outputs": [
    {
     "data": {
      "application/vnd.jupyter.widget-view+json": {
       "model_id": "8d08ef7e13ff427aa8bcb021f1fa5dfa",
       "version_major": 2,
       "version_minor": 0
      },
      "text/plain": [
       "VBox()"
      ]
     },
     "metadata": {},
     "output_type": "display_data"
    },
    {
     "data": {
      "application/vnd.jupyter.widget-view+json": {
       "model_id": "",
       "version_major": 2,
       "version_minor": 0
      },
      "text/plain": [
       "FloatProgress(value=0.0, bar_style='info', description='Progress:', layout=Layout(height='25px', width='50%'),…"
      ]
     },
     "metadata": {},
     "output_type": "display_data"
    },
    {
     "name": "stdout",
     "output_type": "stream",
     "text": [
      "+-----------------+----------+---------------------+----------------------------+-------------------+-------------------------+----------------+----+------------------------+----+----------------+------------------+------+-------------------+--------------------+----------+---------------------------+---------------+--------------------+---------------------+--------------------+------------------+-----------------------+\n",
      "|fecha reporte web|ID de caso|Fecha de notificación|Código DIVIPOLA departamento|Nombre departamento|Código DIVIPOLA municipio|Nombre municipio|Edad|Unidad de medida de edad|Sexo|Tipo de contagio|Ubicación del caso|Estado|Código ISO del país|     Nombre del país|Recuperado|Fecha de inicio de síntomas|Fecha de muerte|Fecha de diagnóstico|Fecha de recuperación|Tipo de recuperación|Pertenencia étnica|Nombre del grupo étnico|\n",
      "+-----------------+----------+---------------------+----------------------------+-------------------+-------------------------+----------------+----+------------------------+----+----------------+------------------+------+-------------------+--------------------+----------+---------------------------+---------------+--------------------+---------------------+--------------------+------------------+-----------------------+\n",
      "| 6/3/2020 0:00:00|         1|     2/3/2020 0:00:00|                          11|             BOGOTA|                   11,001|          BOGOTA|  19|                       1|   F|       Importado|              Casa|  Leve|                380|              ITALIA|Recuperado|          27/2/2020 0:00:00|           null|    6/3/2020 0:00:00|    13/3/2020 0:00:00|                 PCR|                 6|                   null|\n",
      "| 9/3/2020 0:00:00|         2|     6/3/2020 0:00:00|                          76|              VALLE|                   76,111|            BUGA|  34|                       1|   M|       Importado|              Casa|  Leve|                724|              ESPAÑA|Recuperado|           4/3/2020 0:00:00|           null|    9/3/2020 0:00:00|    19/3/2020 0:00:00|                 PCR|                 5|                   null|\n",
      "| 9/3/2020 0:00:00|         3|     7/3/2020 0:00:00|                           5|          ANTIOQUIA|                    5,001|        MEDELLIN|  50|                       1|   F|       Importado|              Casa|  Leve|                724|              ESPAÑA|Recuperado|          29/2/2020 0:00:00|           null|    9/3/2020 0:00:00|    15/3/2020 0:00:00|                 PCR|                 6|                   null|\n",
      "|11/3/2020 0:00:00|         4|     9/3/2020 0:00:00|                           5|          ANTIOQUIA|                    5,001|        MEDELLIN|  55|                       1|   M|     Relacionado|              Casa|  Leve|               null|                null|Recuperado|           6/3/2020 0:00:00|           null|   11/3/2020 0:00:00|    26/3/2020 0:00:00|                 PCR|                 6|                   null|\n",
      "|11/3/2020 0:00:00|         5|     9/3/2020 0:00:00|                           5|          ANTIOQUIA|                    5,001|        MEDELLIN|  25|                       1|   M|     Relacionado|              Casa|  Leve|               null|                null|Recuperado|           8/3/2020 0:00:00|           null|   11/3/2020 0:00:00|    23/3/2020 0:00:00|                 PCR|                 6|                   null|\n",
      "|11/3/2020 0:00:00|         6|    10/3/2020 0:00:00|                           5|          ANTIOQUIA|                    5,360|          ITAGUI|  27|                       1|   F|     Relacionado|              Casa|  Leve|               null|                null|Recuperado|           6/3/2020 0:00:00|           null|   11/3/2020 0:00:00|    26/3/2020 0:00:00|                 PCR|                 6|                   null|\n",
      "|11/3/2020 0:00:00|         7|     8/3/2020 0:00:00|                      13,001|          CARTAGENA|                   13,001|       CARTAGENA|  85|                       1|   F|       Importado|              Casa|  Leve|                840|ESTADOS UNIDOS DE...|Recuperado|           2/3/2020 0:00:00|           null|   11/3/2020 0:00:00|    17/3/2020 0:00:00|                 PCR|                 6|                   null|\n",
      "|11/3/2020 0:00:00|         8|     9/3/2020 0:00:00|                          11|             BOGOTA|                   11,001|          BOGOTA|  22|                       1|   F|       Importado|              Casa|  Leve|                724|              ESPAÑA|Recuperado|           6/3/2020 0:00:00|           null|   11/3/2020 0:00:00|    21/3/2020 0:00:00|                 PCR|                 6|                   null|\n",
      "|11/3/2020 0:00:00|         9|     8/3/2020 0:00:00|                          11|             BOGOTA|                   11,001|          BOGOTA|  28|                       1|   F|       Importado|              Casa|  Leve|                724|              ESPAÑA|Recuperado|           7/3/2020 0:00:00|           null|   11/3/2020 0:00:00|    23/3/2020 0:00:00|                 PCR|                 6|                   null|\n",
      "|12/3/2020 0:00:00|        10|    12/3/2020 0:00:00|                          11|             BOGOTA|                   11,001|          BOGOTA|  36|                       1|   F|       Importado|              Casa|  Leve|                724|              ESPAÑA|Recuperado|           6/3/2020 0:00:00|           null|   12/3/2020 0:00:00|    21/3/2020 0:00:00|                 PCR|                 6|                   null|\n",
      "+-----------------+----------+---------------------+----------------------------+-------------------+-------------------------+----------------+----+------------------------+----+----------------+------------------+------+-------------------+--------------------+----------+---------------------------+---------------+--------------------+---------------------+--------------------+------------------+-----------------------+\n",
      "only showing top 10 rows"
     ]
    }
   ],
   "source": [
    "datos.show(10)"
   ]
  },
  {
   "cell_type": "code",
   "execution_count": 4,
   "metadata": {},
   "outputs": [
    {
     "data": {
      "application/vnd.jupyter.widget-view+json": {
       "model_id": "a733163d49414eaab0a99ee65c2773c0",
       "version_major": 2,
       "version_minor": 0
      },
      "text/plain": [
       "VBox()"
      ]
     },
     "metadata": {},
     "output_type": "display_data"
    },
    {
     "data": {
      "application/vnd.jupyter.widget-view+json": {
       "model_id": "",
       "version_major": 2,
       "version_minor": 0
      },
      "text/plain": [
       "FloatProgress(value=0.0, bar_style='info', description='Progress:', layout=Layout(height='25px', width='50%'),…"
      ]
     },
     "metadata": {},
     "output_type": "display_data"
    }
   ],
   "source": [
    "datos_limpios = datos.drop('Código DIVIPOLA municipio','Código DIVIPOLA departamento','Unidad de medida de edad','Código ISO del país','Pertenencia étnica','Nombre del grupo étnico')"
   ]
  },
  {
   "cell_type": "code",
   "execution_count": 5,
   "metadata": {},
   "outputs": [
    {
     "data": {
      "application/vnd.jupyter.widget-view+json": {
       "model_id": "55cd98aa41924f64a47737119bb011c3",
       "version_major": 2,
       "version_minor": 0
      },
      "text/plain": [
       "VBox()"
      ]
     },
     "metadata": {},
     "output_type": "display_data"
    },
    {
     "data": {
      "application/vnd.jupyter.widget-view+json": {
       "model_id": "",
       "version_major": 2,
       "version_minor": 0
      },
      "text/plain": [
       "FloatProgress(value=0.0, bar_style='info', description='Progress:', layout=Layout(height='25px', width='50%'),…"
      ]
     },
     "metadata": {},
     "output_type": "display_data"
    },
    {
     "name": "stdout",
     "output_type": "stream",
     "text": [
      "+-----------------+----------+---------------------+-------------------+----------------+----+----+----------------+------------------+------+--------------------+----------+---------------------------+---------------+--------------------+---------------------+--------------------+--------+\n",
      "|fecha reporte web|ID de caso|Fecha de notificación|Nombre departamento|Nombre municipio|Edad|Sexo|Tipo de contagio|Ubicación del caso|Estado|     Nombre del país|Recuperado|Fecha de inicio de síntomas|Fecha de muerte|Fecha de diagnóstico|Fecha de recuperación|Tipo de recuperación|   Etapa|\n",
      "+-----------------+----------+---------------------+-------------------+----------------+----+----+----------------+------------------+------+--------------------+----------+---------------------------+---------------+--------------------+---------------------+--------------------+--------+\n",
      "| 6/3/2020 0:00:00|         1|     2/3/2020 0:00:00|             BOGOTA|          BOGOTA|  19|   F|       Importado|              Casa|  Leve|              ITALIA|Recuperado|          27/2/2020 0:00:00|           null|    6/3/2020 0:00:00|    13/3/2020 0:00:00|                 PCR|juventud|\n",
      "| 9/3/2020 0:00:00|         2|     6/3/2020 0:00:00|              VALLE|            BUGA|  34|   M|       Importado|              Casa|  Leve|              ESPAÑA|Recuperado|           4/3/2020 0:00:00|           null|    9/3/2020 0:00:00|    19/3/2020 0:00:00|                 PCR| adultez|\n",
      "| 9/3/2020 0:00:00|         3|     7/3/2020 0:00:00|          ANTIOQUIA|        MEDELLIN|  50|   F|       Importado|              Casa|  Leve|              ESPAÑA|Recuperado|          29/2/2020 0:00:00|           null|    9/3/2020 0:00:00|    15/3/2020 0:00:00|                 PCR| adultez|\n",
      "|11/3/2020 0:00:00|         4|     9/3/2020 0:00:00|          ANTIOQUIA|        MEDELLIN|  55|   M|     Relacionado|              Casa|  Leve|                null|Recuperado|           6/3/2020 0:00:00|           null|   11/3/2020 0:00:00|    26/3/2020 0:00:00|                 PCR| adultez|\n",
      "|11/3/2020 0:00:00|         5|     9/3/2020 0:00:00|          ANTIOQUIA|        MEDELLIN|  25|   M|     Relacionado|              Casa|  Leve|                null|Recuperado|           8/3/2020 0:00:00|           null|   11/3/2020 0:00:00|    23/3/2020 0:00:00|                 PCR|juventud|\n",
      "|11/3/2020 0:00:00|         6|    10/3/2020 0:00:00|          ANTIOQUIA|          ITAGUI|  27|   F|     Relacionado|              Casa|  Leve|                null|Recuperado|           6/3/2020 0:00:00|           null|   11/3/2020 0:00:00|    26/3/2020 0:00:00|                 PCR| adultez|\n",
      "|11/3/2020 0:00:00|         7|     8/3/2020 0:00:00|          CARTAGENA|       CARTAGENA|  85|   F|       Importado|              Casa|  Leve|ESTADOS UNIDOS DE...|Recuperado|           2/3/2020 0:00:00|           null|   11/3/2020 0:00:00|    17/3/2020 0:00:00|                 PCR|   vejez|\n",
      "|11/3/2020 0:00:00|         8|     9/3/2020 0:00:00|             BOGOTA|          BOGOTA|  22|   F|       Importado|              Casa|  Leve|              ESPAÑA|Recuperado|           6/3/2020 0:00:00|           null|   11/3/2020 0:00:00|    21/3/2020 0:00:00|                 PCR|juventud|\n",
      "|11/3/2020 0:00:00|         9|     8/3/2020 0:00:00|             BOGOTA|          BOGOTA|  28|   F|       Importado|              Casa|  Leve|              ESPAÑA|Recuperado|           7/3/2020 0:00:00|           null|   11/3/2020 0:00:00|    23/3/2020 0:00:00|                 PCR| adultez|\n",
      "|12/3/2020 0:00:00|        10|    12/3/2020 0:00:00|             BOGOTA|          BOGOTA|  36|   F|       Importado|              Casa|  Leve|              ESPAÑA|Recuperado|           6/3/2020 0:00:00|           null|   12/3/2020 0:00:00|    21/3/2020 0:00:00|                 PCR| adultez|\n",
      "|12/3/2020 0:00:00|        11|    11/3/2020 0:00:00|             BOGOTA|          BOGOTA|  42|   F|       Importado|              Casa|  Leve|              ESPAÑA|Recuperado|           6/3/2020 0:00:00|           null|   12/3/2020 0:00:00|    31/3/2020 0:00:00|                 PCR| adultez|\n",
      "|12/3/2020 0:00:00|        12|    10/3/2020 0:00:00|              HUILA|           NEIVA|  74|   F|       Importado|              Casa|  Leve|              ITALIA|Recuperado|           6/3/2020 0:00:00|           null|   12/3/2020 0:00:00|     9/4/2020 0:00:00|                 PCR|   vejez|\n",
      "|12/3/2020 0:00:00|        13|    10/3/2020 0:00:00|              HUILA|           NEIVA|  68|   F|     Relacionado|              Casa|  Leve|                null|Recuperado|           6/3/2020 0:00:00|           null|   12/3/2020 0:00:00|    30/3/2020 0:00:00|                 PCR|   vejez|\n",
      "|13/3/2020 0:00:00|        14|    10/3/2020 0:00:00|              VALLE|         PALMIRA|  48|   M|       Importado|              Casa|  Leve|              ESPAÑA|Recuperado|           7/3/2020 0:00:00|           null|   13/3/2020 0:00:00|    21/3/2020 0:00:00|                 PCR| adultez|\n",
      "|13/3/2020 0:00:00|        15|    13/3/2020 0:00:00|               META|   VILLAVICENCIO|  30|   F|       Importado|              Casa|  Leve|              ESPAÑA|Recuperado|           9/3/2020 0:00:00|           null|   13/3/2020 0:00:00|    23/3/2020 0:00:00|                 PCR| adultez|\n",
      "|13/3/2020 0:00:00|        16|    11/3/2020 0:00:00|             BOGOTA|          BOGOTA|  61|   F|       Importado|              Casa|  Leve|              ITALIA|Recuperado|           8/3/2020 0:00:00|           null|   13/3/2020 0:00:00|    23/3/2020 0:00:00|                 PCR|   vejez|\n",
      "|14/3/2020 0:00:00|        17|    11/3/2020 0:00:00|             BOGOTA|          BOGOTA|  73|   F|       Importado|              Casa|  Leve|              ESPAÑA|Recuperado|          28/2/2020 0:00:00|           null|   14/3/2020 0:00:00|    14/3/2020 0:00:00|                 PCR|   vejez|\n",
      "|14/3/2020 0:00:00|        18|    11/3/2020 0:00:00|             BOGOTA|          BOGOTA|  54|   M|       Importado|              Casa|  Leve|              ESPAÑA|Recuperado|           7/3/2020 0:00:00|           null|   14/3/2020 0:00:00|     7/4/2020 0:00:00|              Tiempo| adultez|\n",
      "|14/3/2020 0:00:00|        19|    12/3/2020 0:00:00|             BOGOTA|          BOGOTA|  54|   F|     Relacionado|              Casa|  Leve|                null|Recuperado|           9/3/2020 0:00:00|           null|   14/3/2020 0:00:00|    24/3/2020 0:00:00|                 PCR| adultez|\n",
      "|14/3/2020 0:00:00|        20|    11/3/2020 0:00:00|          ANTIOQUIA|        MEDELLIN|  26|   F|     Relacionado|              Casa|  Leve|                null|Recuperado|           9/3/2020 0:00:00|           null|   14/3/2020 0:00:00|    24/3/2020 0:00:00|                 PCR|juventud|\n",
      "+-----------------+----------+---------------------+-------------------+----------------+----+----+----------------+------------------+------+--------------------+----------+---------------------------+---------------+--------------------+---------------------+--------------------+--------+\n",
      "only showing top 20 rows"
     ]
    }
   ],
   "source": [
    "def edad_etapa(edad):\n",
    "    etapa = ''\n",
    "    if (edad<=5):\n",
    "        etapa = 'primera infancia'\n",
    "    elif (5<edad<=11):\n",
    "        etapa = 'infancia'\n",
    "    elif (11<edad<=18):\n",
    "        etapa = 'adolescencia'\n",
    "    elif (18<edad<=26):\n",
    "        etapa = 'juventud'\n",
    "    elif (26<edad<=59):\n",
    "        etapa = 'adultez'\n",
    "    elif (edad>=60):\n",
    "        etapa = 'vejez'\n",
    "    return etapa\n",
    "\n",
    "#Agregar Columna\n",
    "etapa_udf = spark.udf.register('Etapas', edad_etapa)\n",
    "\n",
    "datos_limpios = datos_limpios.withColumn('Etapa', etapa_udf(datos['Edad']))\n",
    "\n",
    "datos_limpios.show()"
   ]
  },
  {
   "cell_type": "code",
   "execution_count": 6,
   "metadata": {},
   "outputs": [
    {
     "data": {
      "application/vnd.jupyter.widget-view+json": {
       "model_id": "a73ab00d75a5421ca42cd17b5fbd0c40",
       "version_major": 2,
       "version_minor": 0
      },
      "text/plain": [
       "VBox()"
      ]
     },
     "metadata": {},
     "output_type": "display_data"
    },
    {
     "data": {
      "application/vnd.jupyter.widget-view+json": {
       "model_id": "",
       "version_major": 2,
       "version_minor": 0
      },
      "text/plain": [
       "FloatProgress(value=0.0, bar_style='info', description='Progress:', layout=Layout(height='25px', width='50%'),…"
      ]
     },
     "metadata": {},
     "output_type": "display_data"
    }
   ],
   "source": [
    "datos_limpios = datos_limpios.fillna('COLOMBIA', subset=['Nombre del país'])"
   ]
  },
  {
   "cell_type": "code",
   "execution_count": 7,
   "metadata": {
    "scrolled": true
   },
   "outputs": [
    {
     "data": {
      "application/vnd.jupyter.widget-view+json": {
       "model_id": "b720c23d3c634ceda946f6bec564b406",
       "version_major": 2,
       "version_minor": 0
      },
      "text/plain": [
       "VBox()"
      ]
     },
     "metadata": {},
     "output_type": "display_data"
    },
    {
     "data": {
      "application/vnd.jupyter.widget-view+json": {
       "model_id": "",
       "version_major": 2,
       "version_minor": 0
      },
      "text/plain": [
       "FloatProgress(value=0.0, bar_style='info', description='Progress:', layout=Layout(height='25px', width='50%'),…"
      ]
     },
     "metadata": {},
     "output_type": "display_data"
    },
    {
     "name": "stdout",
     "output_type": "stream",
     "text": [
      "+--------------------+\n",
      "|     Nombre del país|\n",
      "+--------------------+\n",
      "|              ITALIA|\n",
      "|              ESPAÑA|\n",
      "|              ESPAÑA|\n",
      "|            COLOMBIA|\n",
      "|            COLOMBIA|\n",
      "|            COLOMBIA|\n",
      "|ESTADOS UNIDOS DE...|\n",
      "|              ESPAÑA|\n",
      "|              ESPAÑA|\n",
      "|              ESPAÑA|\n",
      "|              ESPAÑA|\n",
      "|              ITALIA|\n",
      "|            COLOMBIA|\n",
      "|              ESPAÑA|\n",
      "|              ESPAÑA|\n",
      "|              ITALIA|\n",
      "|              ESPAÑA|\n",
      "|              ESPAÑA|\n",
      "|            COLOMBIA|\n",
      "|            COLOMBIA|\n",
      "+--------------------+\n",
      "only showing top 20 rows"
     ]
    }
   ],
   "source": [
    "datos_limpios.select('Nombre del país').show()"
   ]
  },
  {
   "cell_type": "code",
   "execution_count": 8,
   "metadata": {
    "scrolled": false
   },
   "outputs": [
    {
     "data": {
      "application/vnd.jupyter.widget-view+json": {
       "model_id": "b820d96b49c34b5e937b2790c45837ac",
       "version_major": 2,
       "version_minor": 0
      },
      "text/plain": [
       "VBox()"
      ]
     },
     "metadata": {},
     "output_type": "display_data"
    },
    {
     "data": {
      "application/vnd.jupyter.widget-view+json": {
       "model_id": "",
       "version_major": 2,
       "version_minor": 0
      },
      "text/plain": [
       "FloatProgress(value=0.0, bar_style='info', description='Progress:', layout=Layout(height='25px', width='50%'),…"
      ]
     },
     "metadata": {},
     "output_type": "display_data"
    },
    {
     "name": "stdout",
     "output_type": "stream",
     "text": [
      "+-----------------+----------+---------------------+-------------------+----------------+----+----+----------------+------------------+------+---------------+----------+---------------------------+---------------+--------------------+---------------------+--------------------+--------+\n",
      "|fecha reporte web|ID de caso|Fecha de notificación|Nombre departamento|Nombre municipio|Edad|Sexo|Tipo de contagio|Ubicación del caso|Estado|Nombre del país|Recuperado|Fecha de inicio de síntomas|Fecha de muerte|Fecha de diagnóstico|Fecha de recuperación|Tipo de recuperación|   Etapa|\n",
      "+-----------------+----------+---------------------+-------------------+----------------+----+----+----------------+------------------+------+---------------+----------+---------------------------+---------------+--------------------+---------------------+--------------------+--------+\n",
      "| 6/3/2020 0:00:00|         1|     2/3/2020 0:00:00|             BOGOTA|          BOGOTA|  19|   F|       Importado|              Casa|  Leve|         ITALIA|Recuperado|          27/2/2020 0:00:00|           null|    6/3/2020 0:00:00|    13/3/2020 0:00:00|                 PCR|juventud|\n",
      "| 9/3/2020 0:00:00|         2|     6/3/2020 0:00:00|              VALLE|            BUGA|  34|   M|       Importado|              Casa|  Leve|         ESPAÑA|Recuperado|           4/3/2020 0:00:00|           null|    9/3/2020 0:00:00|    19/3/2020 0:00:00|                 PCR| adultez|\n",
      "| 9/3/2020 0:00:00|         3|     7/3/2020 0:00:00|          ANTIOQUIA|        MEDELLIN|  50|   F|       Importado|              Casa|  Leve|         ESPAÑA|Recuperado|          29/2/2020 0:00:00|           null|    9/3/2020 0:00:00|    15/3/2020 0:00:00|                 PCR| adultez|\n",
      "|11/3/2020 0:00:00|         4|     9/3/2020 0:00:00|          ANTIOQUIA|        MEDELLIN|  55|   M|     Relacionado|              Casa|  Leve|       COLOMBIA|Recuperado|           6/3/2020 0:00:00|           null|   11/3/2020 0:00:00|    26/3/2020 0:00:00|                 PCR| adultez|\n",
      "|11/3/2020 0:00:00|         5|     9/3/2020 0:00:00|          ANTIOQUIA|        MEDELLIN|  25|   M|     Relacionado|              Casa|  Leve|       COLOMBIA|Recuperado|           8/3/2020 0:00:00|           null|   11/3/2020 0:00:00|    23/3/2020 0:00:00|                 PCR|juventud|\n",
      "+-----------------+----------+---------------------+-------------------+----------------+----+----+----------------+------------------+------+---------------+----------+---------------------------+---------------+--------------------+---------------------+--------------------+--------+\n",
      "only showing top 5 rows"
     ]
    }
   ],
   "source": [
    "datos_limpios.show(5)"
   ]
  },
  {
   "cell_type": "code",
   "execution_count": 9,
   "metadata": {
    "scrolled": true
   },
   "outputs": [
    {
     "data": {
      "application/vnd.jupyter.widget-view+json": {
       "model_id": "a932c19e5f5c44918598cc4dd01be88e",
       "version_major": 2,
       "version_minor": 0
      },
      "text/plain": [
       "VBox()"
      ]
     },
     "metadata": {},
     "output_type": "display_data"
    },
    {
     "data": {
      "application/vnd.jupyter.widget-view+json": {
       "model_id": "",
       "version_major": 2,
       "version_minor": 0
      },
      "text/plain": [
       "FloatProgress(value=0.0, bar_style='info', description='Progress:', layout=Layout(height='25px', width='50%'),…"
      ]
     },
     "metadata": {},
     "output_type": "display_data"
    }
   ],
   "source": [
    "from datetime import date\n",
    "\n",
    "today = date.today()\n",
    "\n",
    "d4 = today.strftime(\"%m-%d-%Y\")\n",
    "\n",
    "url = 's3://proyecto-bigdata/curated/{0}'.format(d4)\n",
    "\n",
    "datos_limpios.coalesce(1).write.format('csv').option('header','True').save(url)"
   ]
  },
  {
   "cell_type": "code",
   "execution_count": 10,
   "metadata": {},
   "outputs": [
    {
     "data": {
      "application/vnd.jupyter.widget-view+json": {
       "model_id": "6bbd4913696c4efa8db57ad3af30d687",
       "version_major": 2,
       "version_minor": 0
      },
      "text/plain": [
       "VBox()"
      ]
     },
     "metadata": {},
     "output_type": "display_data"
    },
    {
     "data": {
      "application/vnd.jupyter.widget-view+json": {
       "model_id": "",
       "version_major": 2,
       "version_minor": 0
      },
      "text/plain": [
       "FloatProgress(value=0.0, bar_style='info', description='Progress:', layout=Layout(height='25px', width='50%'),…"
      ]
     },
     "metadata": {},
     "output_type": "display_data"
    }
   ],
   "source": [
    "paises = datos_limpios.groupBy('Nombre del país').count().orderBy('count', ascending=False)\n",
    "\n",
    "paises = paises.withColumnRenamed(\"Nombre del país\",\"pais_donde_viajo\")"
   ]
  },
  {
   "cell_type": "code",
   "execution_count": 11,
   "metadata": {},
   "outputs": [
    {
     "data": {
      "application/vnd.jupyter.widget-view+json": {
       "model_id": "9b0e1d14325143d6a1785bfe254ff39e",
       "version_major": 2,
       "version_minor": 0
      },
      "text/plain": [
       "VBox()"
      ]
     },
     "metadata": {},
     "output_type": "display_data"
    },
    {
     "data": {
      "application/vnd.jupyter.widget-view+json": {
       "model_id": "",
       "version_major": 2,
       "version_minor": 0
      },
      "text/plain": [
       "FloatProgress(value=0.0, bar_style='info', description='Progress:', layout=Layout(height='25px', width='50%'),…"
      ]
     },
     "metadata": {},
     "output_type": "display_data"
    },
    {
     "name": "stdout",
     "output_type": "stream",
     "text": [
      "+--------------------+-------+\n",
      "|    pais_donde_viajo|  count|\n",
      "+--------------------+-------+\n",
      "|            COLOMBIA|1370152|\n",
      "|              ESPAÑA|    258|\n",
      "|ESTADOS UNIDOS DE...|    223|\n",
      "|             ECUADOR|     68|\n",
      "|              BRASIL|     60|\n",
      "|              MÉXICO|     55|\n",
      "|              PANAMA|     34|\n",
      "|             TURQUÍA|     27|\n",
      "|               CHILE|     20|\n",
      "|             FRANCIA|     19|\n",
      "|                PERU|     18|\n",
      "|           VENEZUELA|     18|\n",
      "|             JAMAICA|     16|\n",
      "|REINO UNIDO DE GR...|     14|\n",
      "|         PUERTO RICO|     13|\n",
      "|              EGIPTO|     11|\n",
      "|              ITALIA|     11|\n",
      "|            ALEMANIA|     11|\n",
      "|REPÚBLICA DOMINICANA|     10|\n",
      "|ANTILLAS NEERLAND...|      8|\n",
      "+--------------------+-------+\n",
      "only showing top 20 rows"
     ]
    }
   ],
   "source": [
    "paises.show()"
   ]
  },
  {
   "cell_type": "code",
   "execution_count": 12,
   "metadata": {},
   "outputs": [
    {
     "data": {
      "application/vnd.jupyter.widget-view+json": {
       "model_id": "edd84aa22c2545afb9ca3fb4e99a1185",
       "version_major": 2,
       "version_minor": 0
      },
      "text/plain": [
       "VBox()"
      ]
     },
     "metadata": {},
     "output_type": "display_data"
    },
    {
     "data": {
      "application/vnd.jupyter.widget-view+json": {
       "model_id": "",
       "version_major": 2,
       "version_minor": 0
      },
      "text/plain": [
       "FloatProgress(value=0.0, bar_style='info', description='Progress:', layout=Layout(height='25px', width='50%'),…"
      ]
     },
     "metadata": {},
     "output_type": "display_data"
    }
   ],
   "source": [
    "recuperados_y_fallecidos_departamento = datos_limpios.groupBy('Nombre departamento','Recuperado').count().orderBy('count', ascending=False)"
   ]
  },
  {
   "cell_type": "code",
   "execution_count": 13,
   "metadata": {},
   "outputs": [
    {
     "data": {
      "application/vnd.jupyter.widget-view+json": {
       "model_id": "0d62992e3351462a8637d1599e51f4fd",
       "version_major": 2,
       "version_minor": 0
      },
      "text/plain": [
       "VBox()"
      ]
     },
     "metadata": {},
     "output_type": "display_data"
    },
    {
     "data": {
      "application/vnd.jupyter.widget-view+json": {
       "model_id": "",
       "version_major": 2,
       "version_minor": 0
      },
      "text/plain": [
       "FloatProgress(value=0.0, bar_style='info', description='Progress:', layout=Layout(height='25px', width='50%'),…"
      ]
     },
     "metadata": {},
     "output_type": "display_data"
    },
    {
     "name": "stdout",
     "output_type": "stream",
     "text": [
      "+-------------------+----------+------+\n",
      "|Nombre departamento|Recuperado| count|\n",
      "+-------------------+----------+------+\n",
      "|             BOGOTA|Recuperado|358054|\n",
      "|          ANTIOQUIA|Recuperado|205012|\n",
      "|              VALLE|Recuperado|102582|\n",
      "|       CUNDINAMARCA|Recuperado| 50601|\n",
      "|          SANTANDER|Recuperado| 50139|\n",
      "|       BARRANQUILLA|Recuperado| 43570|\n",
      "|          ATLANTICO|Recuperado| 31289|\n",
      "|          CARTAGENA|Recuperado| 31255|\n",
      "|              HUILA|Recuperado| 29166|\n",
      "|             TOLIMA|Recuperado| 29162|\n",
      "|              CESAR|Recuperado| 27823|\n",
      "|               META|Recuperado| 27605|\n",
      "|    NORTE SANTANDER|Recuperado| 27551|\n",
      "|            CORDOBA|Recuperado| 25847|\n",
      "|             CALDAS|Recuperado| 23981|\n",
      "|             NARIÑO|Recuperado| 23977|\n",
      "|          RISARALDA|Recuperado| 22475|\n",
      "|             BOGOTA|    Activo| 21540|\n",
      "|             BOYACA|Recuperado| 20923|\n",
      "|            QUINDIO|Recuperado| 16559|\n",
      "+-------------------+----------+------+\n",
      "only showing top 20 rows"
     ]
    }
   ],
   "source": [
    "recuperados_y_fallecidos_departamento.show()"
   ]
  },
  {
   "cell_type": "code",
   "execution_count": 14,
   "metadata": {},
   "outputs": [
    {
     "data": {
      "application/vnd.jupyter.widget-view+json": {
       "model_id": "f2cb6364e95e4ea894488fe464fa6a5f",
       "version_major": 2,
       "version_minor": 0
      },
      "text/plain": [
       "VBox()"
      ]
     },
     "metadata": {},
     "output_type": "display_data"
    },
    {
     "data": {
      "application/vnd.jupyter.widget-view+json": {
       "model_id": "",
       "version_major": 2,
       "version_minor": 0
      },
      "text/plain": [
       "FloatProgress(value=0.0, bar_style='info', description='Progress:', layout=Layout(height='25px', width='50%'),…"
      ]
     },
     "metadata": {},
     "output_type": "display_data"
    }
   ],
   "source": [
    "recuperados_y_fallecidos_etapa = datos_limpios.groupBy('Etapa','Recuperado').count().orderBy('count', ascending=False)"
   ]
  },
  {
   "cell_type": "code",
   "execution_count": 15,
   "metadata": {},
   "outputs": [
    {
     "data": {
      "application/vnd.jupyter.widget-view+json": {
       "model_id": "acd54f9c8c6b461ea24798cbfeee0996",
       "version_major": 2,
       "version_minor": 0
      },
      "text/plain": [
       "VBox()"
      ]
     },
     "metadata": {},
     "output_type": "display_data"
    },
    {
     "data": {
      "application/vnd.jupyter.widget-view+json": {
       "model_id": "",
       "version_major": 2,
       "version_minor": 0
      },
      "text/plain": [
       "FloatProgress(value=0.0, bar_style='info', description='Progress:', layout=Layout(height='25px', width='50%'),…"
      ]
     },
     "metadata": {},
     "output_type": "display_data"
    },
    {
     "name": "stdout",
     "output_type": "stream",
     "text": [
      "+----------------+----------+------+\n",
      "|           Etapa|Recuperado| count|\n",
      "+----------------+----------+------+\n",
      "|         adultez|Recuperado|784073|\n",
      "|        juventud|Recuperado|203227|\n",
      "|           vejez|Recuperado|160739|\n",
      "|    adolescencia|Recuperado| 56021|\n",
      "|         adultez|    Activo| 41044|\n",
      "|        infancia|Recuperado| 31450|\n",
      "|           vejez| Fallecido| 28926|\n",
      "|primera infancia|Recuperado| 21900|\n",
      "|           vejez|    Activo| 15501|\n",
      "|        juventud|    Activo| 10177|\n",
      "|         adultez| Fallecido|  8243|\n",
      "|    adolescencia|    Activo|  2963|\n",
      "|           vejez|       N/A|  2287|\n",
      "|        infancia|    Activo|  1514|\n",
      "|primera infancia|    Activo|  1453|\n",
      "|         adultez|       N/A|   736|\n",
      "|        juventud| Fallecido|   244|\n",
      "|           vejez| fallecido|   230|\n",
      "|        juventud|       N/A|   111|\n",
      "|         adultez| fallecido|    65|\n",
      "+----------------+----------+------+\n",
      "only showing top 20 rows"
     ]
    }
   ],
   "source": [
    "recuperados_y_fallecidos_etapa.show()"
   ]
  },
  {
   "cell_type": "code",
   "execution_count": 16,
   "metadata": {},
   "outputs": [
    {
     "data": {
      "application/vnd.jupyter.widget-view+json": {
       "model_id": "afc2ff2e99344ef196710dd88c447e53",
       "version_major": 2,
       "version_minor": 0
      },
      "text/plain": [
       "VBox()"
      ]
     },
     "metadata": {},
     "output_type": "display_data"
    },
    {
     "data": {
      "application/vnd.jupyter.widget-view+json": {
       "model_id": "",
       "version_major": 2,
       "version_minor": 0
      },
      "text/plain": [
       "FloatProgress(value=0.0, bar_style='info', description='Progress:', layout=Layout(height='25px', width='50%'),…"
      ]
     },
     "metadata": {},
     "output_type": "display_data"
    }
   ],
   "source": [
    "sexo = datos_limpios.groupBy('Sexo').count().orderBy('count', ascending=False)"
   ]
  },
  {
   "cell_type": "code",
   "execution_count": 17,
   "metadata": {},
   "outputs": [
    {
     "data": {
      "application/vnd.jupyter.widget-view+json": {
       "model_id": "bc22b472741b48c2a3df4ec948b2129a",
       "version_major": 2,
       "version_minor": 0
      },
      "text/plain": [
       "VBox()"
      ]
     },
     "metadata": {},
     "output_type": "display_data"
    },
    {
     "data": {
      "application/vnd.jupyter.widget-view+json": {
       "model_id": "",
       "version_major": 2,
       "version_minor": 0
      },
      "text/plain": [
       "FloatProgress(value=0.0, bar_style='info', description='Progress:', layout=Layout(height='25px', width='50%'),…"
      ]
     },
     "metadata": {},
     "output_type": "display_data"
    },
    {
     "name": "stdout",
     "output_type": "stream",
     "text": [
      "+----+------+\n",
      "|Sexo| count|\n",
      "+----+------+\n",
      "|   F|689057|\n",
      "|   M|682046|\n",
      "+----+------+"
     ]
    }
   ],
   "source": [
    "sexo.show()"
   ]
  },
  {
   "cell_type": "code",
   "execution_count": 18,
   "metadata": {},
   "outputs": [
    {
     "data": {
      "application/vnd.jupyter.widget-view+json": {
       "model_id": "47298e9963b64b70b14e195645e45ba3",
       "version_major": 2,
       "version_minor": 0
      },
      "text/plain": [
       "VBox()"
      ]
     },
     "metadata": {},
     "output_type": "display_data"
    },
    {
     "data": {
      "application/vnd.jupyter.widget-view+json": {
       "model_id": "",
       "version_major": 2,
       "version_minor": 0
      },
      "text/plain": [
       "FloatProgress(value=0.0, bar_style='info', description='Progress:', layout=Layout(height='25px', width='50%'),…"
      ]
     },
     "metadata": {},
     "output_type": "display_data"
    }
   ],
   "source": [
    "sexo_recuperado = datos_limpios.groupBy('Sexo','Recuperado').count().orderBy('count', ascending=False)"
   ]
  },
  {
   "cell_type": "code",
   "execution_count": 19,
   "metadata": {},
   "outputs": [
    {
     "data": {
      "application/vnd.jupyter.widget-view+json": {
       "model_id": "5b438abfd89c49258da59111a640a0b0",
       "version_major": 2,
       "version_minor": 0
      },
      "text/plain": [
       "VBox()"
      ]
     },
     "metadata": {},
     "output_type": "display_data"
    },
    {
     "data": {
      "application/vnd.jupyter.widget-view+json": {
       "model_id": "",
       "version_major": 2,
       "version_minor": 0
      },
      "text/plain": [
       "FloatProgress(value=0.0, bar_style='info', description='Progress:', layout=Layout(height='25px', width='50%'),…"
      ]
     },
     "metadata": {},
     "output_type": "display_data"
    },
    {
     "name": "stdout",
     "output_type": "stream",
     "text": [
      "+----+----------+------+\n",
      "|Sexo|Recuperado| count|\n",
      "+----+----------+------+\n",
      "|   F|Recuperado|637847|\n",
      "|   M|Recuperado|619563|\n",
      "|   M|    Activo| 36401|\n",
      "|   F|    Activo| 36251|\n",
      "|   M| Fallecido| 24024|\n",
      "|   F| Fallecido| 13488|\n",
      "|   M|       N/A|  1861|\n",
      "|   F|       N/A|  1372|\n",
      "|   M| fallecido|   197|\n",
      "|   F| fallecido|    99|\n",
      "+----+----------+------+"
     ]
    }
   ],
   "source": [
    "sexo_recuperado.show()"
   ]
  },
  {
   "cell_type": "code",
   "execution_count": 20,
   "metadata": {},
   "outputs": [
    {
     "data": {
      "application/vnd.jupyter.widget-view+json": {
       "model_id": "e4b5157b31a142e891f40e4c265783b9",
       "version_major": 2,
       "version_minor": 0
      },
      "text/plain": [
       "VBox()"
      ]
     },
     "metadata": {},
     "output_type": "display_data"
    },
    {
     "data": {
      "application/vnd.jupyter.widget-view+json": {
       "model_id": "",
       "version_major": 2,
       "version_minor": 0
      },
      "text/plain": [
       "FloatProgress(value=0.0, bar_style='info', description='Progress:', layout=Layout(height='25px', width='50%'),…"
      ]
     },
     "metadata": {},
     "output_type": "display_data"
    }
   ],
   "source": [
    "recuperados_muertos_medellin = datos_limpios.filter(datos_limpios['Nombre municipio'] == 'MEDELLIN').groupBy('Nombre municipio', 'recuperado').count().orderBy('count', ascending=False)"
   ]
  },
  {
   "cell_type": "code",
   "execution_count": 21,
   "metadata": {},
   "outputs": [
    {
     "data": {
      "application/vnd.jupyter.widget-view+json": {
       "model_id": "9ee29f759a1148099f33d1f630402bd7",
       "version_major": 2,
       "version_minor": 0
      },
      "text/plain": [
       "VBox()"
      ]
     },
     "metadata": {},
     "output_type": "display_data"
    },
    {
     "data": {
      "application/vnd.jupyter.widget-view+json": {
       "model_id": "",
       "version_major": 2,
       "version_minor": 0
      },
      "text/plain": [
       "FloatProgress(value=0.0, bar_style='info', description='Progress:', layout=Layout(height='25px', width='50%'),…"
      ]
     },
     "metadata": {},
     "output_type": "display_data"
    },
    {
     "name": "stdout",
     "output_type": "stream",
     "text": [
      "+----------------+----------+------+\n",
      "|Nombre municipio|recuperado| count|\n",
      "+----------------+----------+------+\n",
      "|        MEDELLIN|Recuperado|117600|\n",
      "|        MEDELLIN|    Activo|  6290|\n",
      "|        MEDELLIN| Fallecido|  2291|\n",
      "|        MEDELLIN|       N/A|   183|\n",
      "|        MEDELLIN| fallecido|    12|\n",
      "+----------------+----------+------+"
     ]
    }
   ],
   "source": [
    "recuperados_muertos_medellin.show()"
   ]
  },
  {
   "cell_type": "code",
   "execution_count": 22,
   "metadata": {},
   "outputs": [
    {
     "data": {
      "application/vnd.jupyter.widget-view+json": {
       "model_id": "62afc0c6ecd349fc8618773437fc99ba",
       "version_major": 2,
       "version_minor": 0
      },
      "text/plain": [
       "VBox()"
      ]
     },
     "metadata": {},
     "output_type": "display_data"
    },
    {
     "data": {
      "application/vnd.jupyter.widget-view+json": {
       "model_id": "",
       "version_major": 2,
       "version_minor": 0
      },
      "text/plain": [
       "FloatProgress(value=0.0, bar_style='info', description='Progress:', layout=Layout(height='25px', width='50%'),…"
      ]
     },
     "metadata": {},
     "output_type": "display_data"
    }
   ],
   "source": [
    "from datetime import date\n",
    "\n",
    "today = date.today()\n",
    "\n",
    "d4 = today.strftime(\"%m-%d-%Y\")\n",
    "\n",
    "url_1 = 's3://proyecto-bigdata/refined/{0}/{1}'.format(d4, 'paises')\n",
    "url_2 = 's3://proyecto-bigdata/refined/{0}/{1}'.format(d4, 'recuperados_y_fallecidos_departamento')\n",
    "url_3 = 's3://proyecto-bigdata/refined/{0}/{1}'.format(d4, 'recuperados_y_fallecidos_etapa')\n",
    "url_4 = 's3://proyecto-bigdata/refined/{0}/{1}'.format(d4, 'sexo')\n",
    "url_5 = 's3://proyecto-bigdata/refined/{0}/{1}'.format(d4, 'recuperados_muertos_medellin')\n",
    "\n",
    "paises.coalesce(1).write.format('csv').option('header','True').save(url_1)\n",
    "recuperados_y_fallecidos_departamento.coalesce(1).write.format('csv').option('header','True').save(url_2)\n",
    "recuperados_y_fallecidos_etapa.coalesce(1).write.format('csv').option('header','True').save(url_3)\n",
    "sexo.coalesce(1).write.format('csv').option('header','True').save(url_4)\n",
    "recuperados_muertos_medellin.coalesce(1).write.format('csv').option('header','True').save(url_5)"
   ]
  },
  {
   "cell_type": "code",
   "execution_count": 23,
   "metadata": {},
   "outputs": [
    {
     "data": {
      "application/vnd.jupyter.widget-view+json": {
       "model_id": "c26fc9f3e22c4477b15161bfb08aba61",
       "version_major": 2,
       "version_minor": 0
      },
      "text/plain": [
       "VBox()"
      ]
     },
     "metadata": {},
     "output_type": "display_data"
    },
    {
     "data": {
      "application/vnd.jupyter.widget-view+json": {
       "model_id": "",
       "version_major": 2,
       "version_minor": 0
      },
      "text/plain": [
       "FloatProgress(value=0.0, bar_style='info', description='Progress:', layout=Layout(height='25px', width='50%'),…"
      ]
     },
     "metadata": {},
     "output_type": "display_data"
    },
    {
     "name": "stdout",
     "output_type": "stream",
     "text": [
      "+--------------------+\n",
      "|     Nombre del país|\n",
      "+--------------------+\n",
      "|              ITALIA|\n",
      "|              ESPAÑA|\n",
      "|              ESPAÑA|\n",
      "|                null|\n",
      "|                null|\n",
      "|                null|\n",
      "|ESTADOS UNIDOS DE...|\n",
      "|              ESPAÑA|\n",
      "|              ESPAÑA|\n",
      "|              ESPAÑA|\n",
      "|              ESPAÑA|\n",
      "|              ITALIA|\n",
      "|                null|\n",
      "|              ESPAÑA|\n",
      "|              ESPAÑA|\n",
      "|              ITALIA|\n",
      "|              ESPAÑA|\n",
      "|              ESPAÑA|\n",
      "|                null|\n",
      "|                null|\n",
      "+--------------------+\n",
      "only showing top 20 rows"
     ]
    }
   ],
   "source": []
  },
  {
   "cell_type": "code",
   "execution_count": null,
   "metadata": {},
   "outputs": [],
   "source": []
  }
 ],
 "metadata": {
  "kernelspec": {
   "display_name": "PySpark",
   "language": "",
   "name": "pysparkkernel"
  },
  "language_info": {
   "codemirror_mode": {
    "name": "python",
    "version": 3
   },
   "mimetype": "text/x-python",
   "name": "pyspark",
   "pygments_lexer": "python3"
  }
 },
 "nbformat": 4,
 "nbformat_minor": 4
}
